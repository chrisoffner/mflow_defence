{
 "cells": [
  {
   "cell_type": "code",
   "execution_count": null,
   "metadata": {},
   "outputs": [],
   "source": [
    "from manifold_flow.flows import ManifoldFlow\n",
    "from manifold_flow import transforms\n",
    "from manifold_flow.architectures.vector_transforms import create_vector_transform\n",
    "\n",
    "import numpy as np\n",
    "import torch\n",
    "from tqdm import tqdm\n",
    "from math import sqrt\n",
    "import matplotlib.pyplot as plt"
   ]
  },
  {
   "cell_type": "code",
   "execution_count": null,
   "metadata": {},
   "outputs": [],
   "source": [
    "# Define M-Flow model\n",
    "params = {\n",
    "    \"batch_size\"         : 512,\n",
    "    \"n_flow_steps\"       : 16,   # Depth (#layers)  of the \"outer transform\"\n",
    "    \"hidden_features\"    : 100,  # Width (#neurons) of the \"outer transform\"\n",
    "    \"n_transform_blocks\" : 2     # ???\n",
    "}\n",
    "mflow = ManifoldFlow(\n",
    "    data_dim=2,\n",
    "    latent_dim=1,\n",
    "    inner_transform=transforms.ConditionalAffineScalarTransform(features=1),\n",
    "    outer_transform=create_vector_transform(\n",
    "        dim                  = 2,\n",
    "        flow_steps           = params[\"n_flow_steps\"],\n",
    "        hidden_features      = params[\"hidden_features\"],\n",
    "        num_transform_blocks = params[\"n_transform_blocks\"]\n",
    "    )\n",
    ")\n",
    "\n",
    "mflow.load_state_dict(torch.load(\"../data/models/spiral_mflow_nrotations_1.2_successful_A.pt\"))"
   ]
  },
  {
   "cell_type": "code",
   "execution_count": null,
   "metadata": {},
   "outputs": [],
   "source": [
    "# Sample many points from the model to visualise the learned manifold\n",
    "mflow.eval()\n",
    "manifold_points = mflow.sample(n=10_000).detach().numpy()"
   ]
  },
  {
   "cell_type": "code",
   "execution_count": null,
   "metadata": {},
   "outputs": [],
   "source": [
    "def generate_grid_tensor(\n",
    "        n_points_per_axis: int,\n",
    "        min_val:           float,\n",
    "        max_val:           float\n",
    "    ) -> torch.Tensor:\n",
    "    linspace    = torch.linspace(min_val, max_val, n_points_per_axis)\n",
    "    x, y        = torch.meshgrid(linspace, linspace, indexing=\"ij\")\n",
    "    grid_points = torch.stack([x.flatten(), y.flatten()], dim=-1)\n",
    "    return grid_points"
   ]
  },
  {
   "cell_type": "code",
   "execution_count": null,
   "metadata": {},
   "outputs": [],
   "source": [
    "# Generate random colours for the sample points\n",
    "n_samples     = 10000\n",
    "random_values = torch.rand(n_samples)\n",
    "colours       = plt.colormaps[\"hsv\"](random_values)[:, :3]\n",
    "grid_colours  = plt.colormaps[\"plasma\"](np.linspace(0, 1, n_samples))[:, :3]\n",
    "\n",
    "# Generate poins on a regular grid\n",
    "grid_points = generate_grid_tensor(int(sqrt(n_samples)), -10, 10)\n",
    "\n",
    "# Transform grid points from altent space to ambient data space\n",
    "points_proj = mflow.outer_transform.inverse(grid_points)[0].detach().numpy()\n",
    "\n",
    "# Set colours for grid points with y = 0 to pink\n",
    "zero_levelset_mask = (grid_points[:, 1].abs() < 0.0000001)\n",
    "zero_levelset_idxs = torch.nonzero(zero_levelset_mask, as_tuple=True)[0]\n",
    "grid_colours[zero_levelset_idxs] = torch.tensor([1, 0, 1])\n",
    "\n",
    "# Define arrays used for plotting the projection vectors via `plt.quiver` \n",
    "# x_start, y_start = grid_points.T.numpy()\n",
    "# x_end,   y_end   = points_proj.T\n",
    "# dx               = x_end - x_start\n",
    "# dy               = y_end - y_start\n",
    "\n",
    "# Normalise vectors for visual clarity (optional)\n",
    "# norm = np.linalg.norm(np.array([dx, dy]), axis=0) * 4\n",
    "# dx  /= np.where(norm > 1, norm, 1)  # Normalise vectors with norm > 1\n",
    "# dy  /= np.where(norm > 1, norm, 1)  # Normalise vectors with norm > 1\n",
    "\n",
    "# Plotting\n",
    "grid_colours = grid_colours[:grid_points.shape[0]]\n",
    "plt.figure(figsize=(5, 5), dpi=200)\n",
    "plt.scatter(*manifold_points.T, s=1, alpha=0.5, c=\"darkmagenta\")\n",
    "plt.scatter(*grid_points.T,     s=5, alpha=0.2,   c=grid_colours, lw=0)\n",
    "plt.scatter(*points_proj.T,     s=5, alpha=1,   c=grid_colours, lw=0)\n",
    "\n",
    "# Plot projection vectors\n",
    "# plt.quiver(x_start, y_start, dx, dy, scale_units=\"xy\", scale=1, color=grid_colours)\n",
    "\n",
    "plt.gca().set_aspect(\"equal\", adjustable=\"box\")\n",
    "plt.axis(\"off\")\n",
    "plt.xlim(-2.3, 2.3)\n",
    "plt.ylim(-2.3, 2.3)\n",
    "plt.tight_layout()"
   ]
  },
  {
   "cell_type": "markdown",
   "metadata": {},
   "source": [
    "# Transform a horizontal line from latent space to ambient space"
   ]
  },
  {
   "cell_type": "code",
   "execution_count": null,
   "metadata": {},
   "outputs": [],
   "source": [
    "# Generate colours for the sample points\n",
    "n_samples     = 10000\n",
    "grid_colours  = plt.colormaps[\"plasma\"](np.linspace(0, 1, n_samples))[:, :3]\n",
    "\n",
    "# Generate samples and project them to the manifold\n",
    "x_range = 5\n",
    "y_val   = 1\n",
    "xs = torch.linspace(-1, 1, n_samples) * x_range\n",
    "ys = torch.ones_like(xs) * y_val\n",
    "line_points = torch.column_stack([xs, ys])\n",
    "\n",
    "# Transform points from latent space to ambiet space\n",
    "points_proj = mflow.outer_transform.inverse(line_points)[0].detach().numpy()\n",
    "\n",
    "# Plotting\n",
    "grid_colours = grid_colours[:grid_points.shape[0]]\n",
    "plt.figure(figsize=(5, 5), dpi=200)\n",
    "plt.scatter(*manifold_points.T, s=1,  alpha=0.02, c=\"darkmagenta\")\n",
    "plt.scatter(*line_points.T, s=2, alpha=1,   c=grid_colours, lw=0)\n",
    "plt.scatter(*points_proj.T, s=5, alpha=1,   c=grid_colours, lw=0)\n",
    "\n",
    "plt.gca().set_aspect(\"equal\", adjustable=\"box\")\n",
    "plt.axis(\"off\")\n",
    "plt.xlim(-2.3, 2.3)\n",
    "plt.ylim(-2.3, 2.3)\n",
    "plt.tight_layout()"
   ]
  },
  {
   "cell_type": "markdown",
   "metadata": {},
   "source": [
    "## Generate animation frames of horizontal line transform"
   ]
  },
  {
   "cell_type": "code",
   "execution_count": null,
   "metadata": {},
   "outputs": [],
   "source": [
    "# # Generate colours for the sample points\n",
    "# n_samples    = 10_000\n",
    "# grid_colours = plt.colormaps[\"plasma\"](np.linspace(0, 1, n_samples))[:, :3]\n",
    "\n",
    "# # Generate x values for the line\n",
    "# x_range = 5\n",
    "# xs      = torch.linspace(-1, 1, n_samples) * x_range\n",
    "\n",
    "# # Create 120 frames\n",
    "# num_frames = 120\n",
    "# y_vals     = np.linspace(-2.3, 2.3, num_frames)\n",
    "\n",
    "# for frame, y_val in enumerate(tqdm(y_vals)):\n",
    "#     # Generate samples and project them to the manifold\n",
    "#     ys = torch.ones_like(xs) * y_val\n",
    "#     line_points = torch.column_stack([xs, ys])\n",
    "\n",
    "#     # Transform points from latent space to ambient space\n",
    "#     points_proj = mflow.outer_transform.inverse(line_points)[0].detach().numpy()\n",
    "\n",
    "#     # Plotting\n",
    "#     plt.figure(figsize=(5, 5), dpi=200)\n",
    "#     plt.scatter(*manifold_points.T, s=1, alpha=0.02, c=\"darkmagenta\")\n",
    "#     plt.scatter(*line_points.T,     s=2, alpha=1,    c=grid_colours, lw=0)\n",
    "#     plt.scatter(*points_proj.T,     s=5, alpha=1,    c=grid_colours, lw=0)\n",
    "\n",
    "#     plt.gca().set_aspect(\"equal\", adjustable=\"box\")\n",
    "#     plt.axis(\"off\")\n",
    "#     plt.xlim(-2.3, 2.3)\n",
    "#     plt.ylim(-2.3, 2.3)\n",
    "#     plt.tight_layout()\n",
    "\n",
    "#     # Save the frame\n",
    "#     plt.savefig(f\"../figures/spiral_horizontal_line_transform/frame_{frame:03d}.png\", bbox_inches=\"tight\", pad_inches=0)\n",
    "#     plt.close()"
   ]
  }
 ],
 "metadata": {
  "kernelspec": {
   "display_name": "mflow_proj",
   "language": "python",
   "name": "python3"
  },
  "language_info": {
   "codemirror_mode": {
    "name": "ipython",
    "version": 3
   },
   "file_extension": ".py",
   "mimetype": "text/x-python",
   "name": "python",
   "nbconvert_exporter": "python",
   "pygments_lexer": "ipython3",
   "version": "3.12.4"
  }
 },
 "nbformat": 4,
 "nbformat_minor": 2
}
