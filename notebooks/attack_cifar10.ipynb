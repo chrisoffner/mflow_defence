{
 "cells": [
  {
   "cell_type": "code",
   "execution_count": 1,
   "metadata": {},
   "outputs": [],
   "source": [
    "import torch\n",
    "import torchvision\n",
    "import torchvision.transforms as transforms\n",
    "from torchvision.models import resnet50\n",
    "from torch.utils.data import DataLoader"
   ]
  },
  {
   "cell_type": "code",
   "execution_count": 2,
   "metadata": {},
   "outputs": [
    {
     "name": "stdout",
     "output_type": "stream",
     "text": [
      "Using device: mps\n"
     ]
    }
   ],
   "source": [
    "# Set device\n",
    "device = torch.device(\n",
    "    \"mps\" if torch.backends.mps.is_available()\n",
    "    else \"cuda\" if torch.cuda.is_available()\n",
    "    else \"cpu\"\n",
    ")\n",
    "print(f\"Using device: {device}\")"
   ]
  },
  {
   "cell_type": "code",
   "execution_count": 3,
   "metadata": {},
   "outputs": [
    {
     "name": "stdout",
     "output_type": "stream",
     "text": [
      "Files already downloaded and verified\n"
     ]
    }
   ],
   "source": [
    "# Define transforms\n",
    "transform = transforms.Compose([\n",
    "    transforms.Resize(224),\n",
    "    transforms.ToTensor(),\n",
    "    transforms.Normalize((0.4914, 0.4822, 0.4465), (0.2023, 0.1994, 0.2010))\n",
    "])\n",
    "\n",
    "# Load CIFAR-10 test dataset\n",
    "test_data   = torchvision.datasets.CIFAR10(root=\"../data\", train=False, download=True, transform=transform)\n",
    "test_loader = DataLoader(test_data, batch_size=10, shuffle=False)"
   ]
  },
  {
   "cell_type": "code",
   "execution_count": 4,
   "metadata": {},
   "outputs": [],
   "source": [
    "# Load pre-trained ResNet-50 model\n",
    "model = resnet50()\n",
    "\n",
    "# Modify the ResNet-50 architecture for CIFAR-10\n",
    "model.conv1   = torch.nn.Conv2d(3, 64, kernel_size=3, stride=1, padding=1, bias=False)\n",
    "model.maxpool = torch.nn.Identity()\n",
    "model.fc      = torch.nn.Linear(model.fc.in_features, 10)\n",
    "\n",
    "# Load pre-trained weights\n",
    "model.load_state_dict(torch.load(\"../data/models/resnet50_cifar10.pt\"))  \n",
    "model.to(device)\n",
    "model.eval()\n",
    "\n",
    "# Define CIFAR-10 classes\n",
    "classes = (\"plane\", \"car\", \"bird\", \"cat\", \"deer\", \"dog\", \"frog\", \"horse\", \"ship\", \"truck\")"
   ]
  },
  {
   "cell_type": "code",
   "execution_count": 5,
   "metadata": {},
   "outputs": [
    {
     "name": "stdout",
     "output_type": "stream",
     "text": [
      "Prediction Results:\n",
      "Image 1:\n",
      "  Predicted: plane\n",
      "  Actual:    cat\n",
      "  Correct:   False\n",
      "\n",
      "Image 2:\n",
      "  Predicted: plane\n",
      "  Actual:    ship\n",
      "  Correct:   False\n",
      "\n",
      "Image 3:\n",
      "  Predicted: plane\n",
      "  Actual:    ship\n",
      "  Correct:   False\n",
      "\n",
      "Image 4:\n",
      "  Predicted: plane\n",
      "  Actual:    plane\n",
      "  Correct:   True\n",
      "\n",
      "Image 5:\n",
      "  Predicted: cat\n",
      "  Actual:    frog\n",
      "  Correct:   False\n",
      "\n",
      "Image 6:\n",
      "  Predicted: plane\n",
      "  Actual:    frog\n",
      "  Correct:   False\n",
      "\n",
      "Image 7:\n",
      "  Predicted: cat\n",
      "  Actual:    car\n",
      "  Correct:   False\n",
      "\n",
      "Image 8:\n",
      "  Predicted: cat\n",
      "  Actual:    frog\n",
      "  Correct:   False\n",
      "\n",
      "Image 9:\n",
      "  Predicted: plane\n",
      "  Actual:    cat\n",
      "  Correct:   False\n",
      "\n",
      "Image 10:\n",
      "  Predicted: plane\n",
      "  Actual:    car\n",
      "  Correct:   False\n",
      "\n",
      "Batch Accuracy: 10.00%\n"
     ]
    }
   ],
   "source": [
    "# Get a batch of test images\n",
    "images, labels = next(iter(test_loader))\n",
    "images, labels = images.to(device), labels.to(device)\n",
    "\n",
    "# Perform inference\n",
    "with torch.no_grad():\n",
    "    outputs = model(images)\n",
    "    _, predicted = torch.max(outputs, 1)\n",
    "\n",
    "# Print results\n",
    "print(\"Prediction Results:\")\n",
    "for i in range(10):\n",
    "    print(f\"Image {i+1}:\")\n",
    "    print(f\"  Predicted: {classes[predicted[i]]}\")\n",
    "    print(f\"  Actual:    {classes[labels[i]]}\")\n",
    "    print(f\"  Correct:   {predicted[i] == labels[i]}\\n\")\n",
    "\n",
    "# Calculate and print accuracy for this batch\n",
    "correct = (predicted == labels).sum().item()\n",
    "print(f\"Batch Accuracy: {correct / 10 * 100:.2f}%\")"
   ]
  }
 ],
 "metadata": {
  "kernelspec": {
   "display_name": "mflow_proj",
   "language": "python",
   "name": "python3"
  },
  "language_info": {
   "codemirror_mode": {
    "name": "ipython",
    "version": 3
   },
   "file_extension": ".py",
   "mimetype": "text/x-python",
   "name": "python",
   "nbconvert_exporter": "python",
   "pygments_lexer": "ipython3",
   "version": "3.12.4"
  }
 },
 "nbformat": 4,
 "nbformat_minor": 2
}
