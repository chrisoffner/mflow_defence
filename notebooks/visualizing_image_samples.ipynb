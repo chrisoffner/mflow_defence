{
 "cells": [
  {
   "cell_type": "code",
   "execution_count": 1,
   "metadata": {},
   "outputs": [],
   "source": [
    "import torch\n",
    "import matplotlib.pyplot as plt\n",
    "from matplotlib import colors\n",
    "from torch.utils.data import TensorDataset\n",
    "from pathlib import Path\n",
    "import random\n",
    "import numpy as np\n",
    "from tqdm import tqdm\n",
    "from torch.utils.data import DataLoader\n",
    "\n",
    "from torchvision import datasets, transforms\n",
    "\n",
    "from two_spirals_utils import spiral_dataset, SpiralClassifier\n",
    "from utils.utils import get_grid_predictions, create_contour_plot, resnet_CIFAR10\n",
    "from utils.attacks import fgsm, pgd\n",
    "\n",
    "import tarfile\n",
    "import os\n",
    "\n",
    "import datetime\n",
    "import math\n"
   ]
  },
  {
   "cell_type": "code",
   "execution_count": 2,
   "metadata": {},
   "outputs": [],
   "source": [
    "# Assuming the checkpoint is stored at './resnet_checkpoint.pth'\n",
    "checkpoint_path = '../models/resnet/resnet50_cifar10.pt'\n",
    "device = 'cuda' if torch.cuda.is_available() else 'cpu'\n",
    "\n",
    "# Create an instance of the model\n",
    "classifier = resnet_CIFAR10(resnet_checkpoint=checkpoint_path, device=device)\n",
    "\n",
    "# CIFAR10 class labels for reference\n",
    "classes = ['airplane', 'automobile', 'bird', 'cat', 'deer', 'dog', 'frog', 'horse', 'ship', 'truck']"
   ]
  },
  {
   "cell_type": "code",
   "execution_count": 3,
   "metadata": {},
   "outputs": [],
   "source": [
    "# Load the CIFAR10 dataset\n",
    "transform = transforms.Compose([\n",
    "        transforms.ToTensor(),\n",
    "        transforms.Normalize((0.4914, 0.4822, 0.4465), (0.2023, 0.1994, 0.2010))\n",
    "    ])\n",
    "\n",
    "normalize = transforms.Normalize((0.4914, 0.4822, 0.4465), (0.2023, 0.1994, 0.2010))\n",
    "\n",
    "tensor = transforms.ToTensor()\n",
    "\n",
    "class UnNormalize:\n",
    "    def __init__(self, mean, std):\n",
    "        self.mean = mean\n",
    "        self.std = std\n",
    "        \n",
    "    def __call__(self, tensor):\n",
    "        \"\"\"\n",
    "        Args:\n",
    "            tensor (Tensor): Tensor image of size (C, H, W) to be unnormalized.\n",
    "        Returns:\n",
    "            Tensor: Unnormalized image.\n",
    "        \"\"\"\n",
    "        for t, m, s in zip(tensor, self.mean, self.std):\n",
    "            t.mul_(s).add_(m)  # Multiply by std dev and add mean\n",
    "        return tensor\n",
    "\n",
    "# Define the mean and std dev as per your normalization\n",
    "mean = (0.4914, 0.4822, 0.4465)\n",
    "std = (0.2023, 0.1994, 0.2010)\n",
    "\n",
    "# Create an instance of the UnNormalize class\n",
    "unnormalize = UnNormalize(mean, std)\n"
   ]
  },
  {
   "cell_type": "code",
   "execution_count": 4,
   "metadata": {},
   "outputs": [],
   "source": [
    "idx = np.random.randint(1, 1000)\n",
    "eps = 0.055\n",
    "\n"
   ]
  },
  {
   "cell_type": "code",
   "execution_count": 5,
   "metadata": {},
   "outputs": [
    {
     "data": {
      "text/plain": [
       "<All keys matched successfully>"
      ]
     },
     "execution_count": 5,
     "metadata": {},
     "output_type": "execute_result"
    }
   ],
   "source": [
    "from manifold_flow.flows import ManifoldFlow\n",
    "from manifold_flow import transforms\n",
    "from manifold_flow.architectures.vector_transforms import create_vector_transform\n",
    "from manifold_flow.architectures.image_transforms import create_image_transform\n",
    "\n",
    "\n",
    "latentdim = 500\n",
    "outerlayers = 20\n",
    "innerlayers = 6\n",
    "levels = 4\n",
    "splinebins = 11\n",
    "splinerange = 10.0\n",
    "dropout = 0.0\n",
    "actnorm = True\n",
    "batchnorm = False\n",
    "contextfeatures = None\n",
    "linlayers = 2\n",
    "linchannelfactor = 1\n",
    "lineartransform = \"lu\"\n",
    "\n",
    "steps_per_level = outerlayers // levels\n",
    "\n",
    "mflow = ManifoldFlow(\n",
    "        data_dim=(3, 32, 32),\n",
    "        latent_dim=latentdim,\n",
    "        inner_transform = create_vector_transform(\n",
    "            dim = latentdim,\n",
    "            flow_steps = 16 , # previously 6\n",
    "            linear_transform_type = \"permutation\",\n",
    "            base_transform_type = \"rq-coupling\",\n",
    "            hidden_features = 100,\n",
    "            num_transform_blocks = 6, #previously 2\n",
    "            dropout_probability=0.0,\n",
    "            use_batch_norm=False,\n",
    "            num_bins=8,\n",
    "            tail_bound=3,\n",
    "            apply_unconditional_transform=False,\n",
    "            context_features=None,\n",
    "        ),\n",
    "        outer_transform=create_image_transform(\n",
    "            3,\n",
    "            32,\n",
    "            32,\n",
    "            levels=4,\n",
    "            hidden_channels=100,\n",
    "            steps_per_level=steps_per_level,\n",
    "            num_res_blocks=2,\n",
    "            alpha=0.05,\n",
    "            num_bits=8,\n",
    "            preprocessing=\"glow\",\n",
    "            dropout_prob=dropout,\n",
    "            multi_scale=True,\n",
    "            num_bins=splinebins,\n",
    "            tail_bound=splinerange,\n",
    "            postprocessing=\"partial_nsf\",\n",
    "            postprocessing_layers=linlayers,\n",
    "            postprocessing_channel_factor=linchannelfactor,\n",
    "            use_actnorm=actnorm,\n",
    "            use_batchnorm=batchnorm,\n",
    "        )\n",
    "    )\n",
    "\n",
    "# Load model state dict on CPU\n",
    "mflow.load_state_dict(torch.load(\"../models/cifar10_mflow/mflow_cifar10_nsamples50000_normalized_dim500_run0.pt\", map_location=torch.device(device)))"
   ]
  },
  {
   "cell_type": "code",
   "execution_count": 6,
   "metadata": {},
   "outputs": [
    {
     "name": "stderr",
     "output_type": "stream",
     "text": [
      "/var/folders/dr/07tl1lzs7_g29ddcffd8hmr00000gn/T/ipykernel_8617/3200007574.py:9: DeprecationWarning: Python 3.14 will, by default, filter extracted tar archives and reject files or modify their metadata. Use the filter argument to control this behavior.\n",
      "  tar.extractall(path = extraction_path, members=(safe_extract(m) for m in tar.getmembers()))\n"
     ]
    },
    {
     "name": "stdout",
     "output_type": "stream",
     "text": [
      "Extracting: cifar10_pgd_eps_0.055.pt\n",
      "Files already downloaded and verified\n"
     ]
    }
   ],
   "source": [
    "def safe_extract(member):\n",
    "    print(f\"Extracting: {member.name}\")\n",
    "    return member\n",
    "\n",
    "file_path = f\"../data/cifar10_attacked/cifar10_pgd_eps_{eps:.3f}.tar.gz\"\n",
    "extraction_path = \"../data/cifar10_attacked/\"\n",
    "\n",
    "with tarfile.open(file_path, \"r:gz\") as tar:\n",
    "    tar.extractall(path = extraction_path, members=(safe_extract(m) for m in tar.getmembers()))\n",
    "\n",
    "\n",
    "data_adv = torch.load(file_path.replace(\"tar.gz\", \"pt\"), map_location=device)\n",
    "data_orig = datasets.CIFAR10(root='./data', train=False, download=True, transform=tensor)\n",
    "\n",
    "original_image = data_orig[idx][0]\n",
    "adversarial_image = data_adv[idx][0]\n",
    "\n",
    "\n",
    "\n",
    "x_latent = mflow.encode(normalize(adversarial_image).unsqueeze(0))\n",
    "\n",
    "# Project adversarial attack sample onto manifold\n",
    "x_proj   = mflow.decode(x_latent).detach()\n",
    "\n",
    "projected_image = unnormalize(x_proj)\n",
    "\n",
    "with torch.no_grad():\n",
    "    pred_def = classifier(x_proj)\n",
    "    pred_def = pred_def.argmax(axis=1)\n",
    "\n",
    "    pred_orig = classifier(normalize(original_image).unsqueeze(0))\n",
    "    pred_orig = pred_orig.argmax(axis=1)\n",
    "\n",
    "    pred_adv = classifier(normalize(adversarial_image).unsqueeze(0))\n",
    "    pred_adv = pred_adv.argmax(axis=1)\n",
    "\n",
    "       "
   ]
  },
  {
   "cell_type": "code",
   "execution_count": 7,
   "metadata": {},
   "outputs": [
    {
     "data": {
      "text/plain": [
       "784"
      ]
     },
     "execution_count": 7,
     "metadata": {},
     "output_type": "execute_result"
    }
   ],
   "source": [
    "idx"
   ]
  },
  {
   "cell_type": "code",
   "execution_count": 8,
   "metadata": {},
   "outputs": [
    {
     "name": "stderr",
     "output_type": "stream",
     "text": [
      "WARNING:matplotlib.image:Clipping input data to the valid range for imshow with RGB data ([0..1] for floats or [0..255] for integers).\n"
     ]
    },
    {
     "data": {
      "image/png": "[encoded data removed]",
      "text/plain": [
       "<Figure size 1500x500 with 3 Axes>"
      ]
     },
     "metadata": {},
     "output_type": "display_data"
    }
   ],
   "source": [
    "img1 = original_image.permute(1, 2, 0)\n",
    "img2 = adversarial_image.permute(1, 2, 0)\n",
    "img3 = projected_image.squeeze().permute(1, 2, 0)\n",
    "\n",
    "\n",
    "if eps == 0.000:\n",
    "    # Create a figure and a set of subplots\n",
    "    fig, axs = plt.subplots(nrows=1, ncols=2, figsize=(10, 5))\n",
    "\n",
    "    # Plot each image on its respective axis\n",
    "    axs[0].imshow(img1)\n",
    "    axs[0].set_title(f\"Original Image (prediction: {classes[pred_orig]})\", fontsize = 15)\n",
    "    axs[0].axis('off')  # Turn off axis\n",
    "\n",
    "    axs[1].imshow(img3)\n",
    "    axs[1].set_title(f\"Projected Image (prediction: {classes[pred_def]})\", fontsize = 15)\n",
    "    axs[1].axis('off')  # Turn off axis\n",
    "\n",
    "    # Display the plot\n",
    "    plt.tight_layout(pad=2.0)  # Adjust layout to not overlap\n",
    "    # plt.savefig(f\"../figures/report/attack_eps_{eps:.3f}_image_sample_{idx}.pdf\")\n",
    "    plt.show()\n",
    "\n",
    "else:\n",
    "    # Create a figure and a set of subplots\n",
    "    fig, axs = plt.subplots(nrows=1, ncols=3, figsize=(15, 5))\n",
    "\n",
    "    # Plot each image on its respective axis\n",
    "    axs[0].imshow(img1)\n",
    "    axs[0].set_title(f\"Original Image (prediction: {classes[pred_orig]})\", fontsize = 15)\n",
    "    axs[0].axis('off')  # Turn off axis\n",
    "\n",
    "    axs[1].imshow(img2)\n",
    "    axs[1].set_title(f\"Adversarial Image (prediction: {classes[pred_adv]})\", fontsize = 15)\n",
    "    axs[1].axis('off')  # Turn off axis\n",
    "\n",
    "    axs[2].imshow(img3)\n",
    "    axs[2].set_title(f\"Projected Image (prediction: {classes[pred_def]})\", fontsize = 15)\n",
    "    axs[2].axis('off')  # Turn off axis\n",
    "\n",
    "    # Display the plot\n",
    "\n",
    "    plt.tight_layout(pad=2.0)  # Adjust layout to not overlap\n",
    "    # plt.savefig(f\"../figures/report/attack_eps_{eps:.3f}_image_sample_{idx}.pdf\")\n",
    "    plt.show()"
   ]
  }
 ],
 "metadata": {
  "language_info": {
   "name": "python"
  }
 },
 "nbformat": 4,
 "nbformat_minor": 2
}
