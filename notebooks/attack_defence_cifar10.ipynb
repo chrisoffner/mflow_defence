{
 "cells": [
  {
   "cell_type": "markdown",
   "metadata": {},
   "source": [
    "# Entire Attack and Defence Pipeline\n",
    "\n",
    "In this notebook we demostrate our proposed defence method. This document is structured as follows:\n",
    "1. Create advesarial CIFAR10 samples\n",
    "2. Test accuracy on the adversarial dataset\n",
    "3. Project the samples using the learned manifold\n",
    "4. Test accuracy on the projected samples"
   ]
  },
  {
   "cell_type": "markdown",
   "metadata": {},
   "source": [
    "## Create adversarial CIFAR10 sample"
   ]
  },
  {
   "cell_type": "code",
   "execution_count": null,
   "metadata": {},
   "outputs": [],
   "source": []
  },
  {
   "cell_type": "markdown",
   "metadata": {},
   "source": [
    "## Test accuracy on the adversarial dataset"
   ]
  },
  {
   "cell_type": "code",
   "execution_count": null,
   "metadata": {},
   "outputs": [],
   "source": []
  },
  {
   "cell_type": "markdown",
   "metadata": {},
   "source": [
    "## Project the samples using the learned manifold"
   ]
  },
  {
   "cell_type": "code",
   "execution_count": null,
   "metadata": {},
   "outputs": [],
   "source": [
    "from manifold_flow.flows import ManifoldFlow\n",
    "from manifold_flow import transforms\n",
    "from manifold_flow.architectures.vector_transforms import create_vector_transform\n",
    "\n",
    "# Load the trained manifold\n"
   ]
  },
  {
   "cell_type": "code",
   "execution_count": null,
   "metadata": {},
   "outputs": [],
   "source": [
    "latentdim = d\n",
    "outerlayers = 20\n",
    "innerlayers = 6\n",
    "levels = 4\n",
    "splinebins = 11\n",
    "splinerange = 10.0\n",
    "dropout = 0.0\n",
    "actnorm = True\n",
    "batchnorm = False\n",
    "contextfeatures = None\n",
    "linlayers = 2\n",
    "linchannelfactor = 1\n",
    "lineartransform = \"lu\"\n",
    "\n",
    "steps_per_level = outerlayers // levels\n",
    "\n",
    "mflow = ManifoldFlow(\n",
    "    data_dim=(3, 32, 32),\n",
    "    latent_dim=latentdim,\n",
    "    inner_transform = create_vector_transform(\n",
    "        dim = latentdim,\n",
    "        flow_steps = 6 ,\n",
    "        linear_transform_type=\"permutation\",\n",
    "        base_transform_type=\"rq-coupling\",\n",
    "        hidden_features=100,\n",
    "        num_transform_blocks=2,\n",
    "        dropout_probability=0.0,\n",
    "        use_batch_norm=False,\n",
    "        num_bins=8,\n",
    "        tail_bound=3,\n",
    "        apply_unconditional_transform=False,\n",
    "        context_features=None,\n",
    "    ),\n",
    "    outer_transform=create_image_transform(\n",
    "        3,\n",
    "        32,\n",
    "        32,\n",
    "        levels=4,\n",
    "        hidden_channels=100,\n",
    "        steps_per_level=steps_per_level,\n",
    "        num_res_blocks=2,\n",
    "        alpha=0.05,\n",
    "        num_bits=8,\n",
    "        preprocessing=\"glow\",\n",
    "        dropout_prob=dropout,\n",
    "        multi_scale=True,\n",
    "        num_bins=splinebins,\n",
    "        tail_bound=splinerange,\n",
    "        postprocessing=\"partial_nsf\",\n",
    "        postprocessing_layers=linlayers,\n",
    "        postprocessing_channel_factor=linchannelfactor,\n",
    "        use_actnorm=actnorm,\n",
    "        use_batchnorm=batchnorm,\n",
    "    )\n",
    ")\n",
    "\n",
    "mflow.load_state_dict(torch.load(\"../data/models/mflow_cifar10_dim25_run0.pt\"))"
   ]
  },
  {
   "cell_type": "markdown",
   "metadata": {},
   "source": [
    "## Test accuracy on the projected samples"
   ]
  }
 ],
 "metadata": {
  "language_info": {
   "name": "python"
  }
 },
 "nbformat": 4,
 "nbformat_minor": 2
}
