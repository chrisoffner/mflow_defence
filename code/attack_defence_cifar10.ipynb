{
 "cells": [
  {
   "cell_type": "code",
   "execution_count": 194,
   "metadata": {},
   "outputs": [],
   "source": [
    "import torch\n",
    "import matplotlib.pyplot as plt\n",
    "from matplotlib import colors\n",
    "from torch.utils.data import TensorDataset\n",
    "from pathlib import Path\n",
    "import random\n",
    "import numpy as np\n",
    "\n",
    "from torchvision import datasets, transforms\n",
    "\n",
    "from two_spirals_utils import spiral_dataset, SpiralClassifier\n",
    "from utils.utils import get_grid_predictions, create_contour_plot, resnet_CIFAR10\n",
    "from utils.attacks import fgsm, pgd"
   ]
  },
  {
   "cell_type": "markdown",
   "metadata": {},
   "source": [
    "# Entire Attack and Defence Pipeline\n",
    "\n",
    "In this notebook we demostrate our proposed defence method. This document is structured as follows:\n",
    "1. Create advesarial CIFAR10 samples\n",
    "2. Test accuracy on normal dataset\n",
    "2. Test accuracy on the adversarial dataset\n",
    "3. Project the samples using the learned manifold\n",
    "4. Test accuracy on the projected samples"
   ]
  },
  {
   "cell_type": "markdown",
   "metadata": {},
   "source": [
    "## Load ResNet"
   ]
  },
  {
   "cell_type": "code",
   "execution_count": 195,
   "metadata": {},
   "outputs": [],
   "source": [
    "# Assuming the checkpoint is stored at './resnet_checkpoint.pth'\n",
    "checkpoint_path = '../models/resnet/resnet50_cifar10.pt'\n",
    "device = 'cuda' if torch.cuda.is_available() else 'cpu'\n",
    "\n",
    "# Create an instance of the model\n",
    "classifier = resnet_CIFAR10(resnet_checkpoint=checkpoint_path, device=device)"
   ]
  },
  {
   "cell_type": "markdown",
   "metadata": {},
   "source": [
    "## Create adversarial CIFAR10 sample"
   ]
  },
  {
   "cell_type": "markdown",
   "metadata": {},
   "source": [
    "### Load CIFAR10"
   ]
  },
  {
   "cell_type": "code",
   "execution_count": 196,
   "metadata": {},
   "outputs": [
    {
     "name": "stdout",
     "output_type": "stream",
     "text": [
      "Files already downloaded and verified\n"
     ]
    }
   ],
   "source": [
    "# Load the CIFAR10 dataset\n",
    "transform = transforms.Compose([\n",
    "        transforms.ToTensor(),\n",
    "        transforms.Normalize((0.4914, 0.4822, 0.4465), (0.2023, 0.1994, 0.2010))\n",
    "    ])\n",
    "\n",
    "dataset = datasets.CIFAR10(root='./data', train=False, download=True, transform=transform)\n",
    "\n",
    "# CIFAR10 class labels for reference\n",
    "classes = ['airplane', 'automobile', 'bird', 'cat', 'deer', 'dog', 'frog', 'horse', 'ship', 'truck']\n"
   ]
  },
  {
   "cell_type": "code",
   "execution_count": 197,
   "metadata": {},
   "outputs": [
    {
     "name": "stdout",
     "output_type": "stream",
     "text": [
      "tensor([[[ 2.1264,  2.0489,  2.0682,  ...,  2.0876,  2.0876,  2.0682],\n",
      "         [ 2.1845,  2.1264,  2.1264,  ...,  2.1458,  2.1458,  2.1264],\n",
      "         [ 2.1652,  2.1070,  2.1070,  ...,  2.1264,  2.1264,  2.1070],\n",
      "         ...,\n",
      "         [-0.7426, -1.5955, -2.0608,  ...,  0.8470,  1.0990,  1.2153],\n",
      "         [-0.8395, -1.5374, -1.7312,  ...,  0.9439,  1.1571,  1.1959],\n",
      "         [-0.7813, -1.2272, -1.3047,  ...,  0.8276,  1.0602,  1.1765]],\n",
      "\n",
      "        [[ 2.2035,  2.1248,  2.1445,  ...,  2.1641,  2.1641,  2.1445],\n",
      "         [ 2.2625,  2.2035,  2.2035,  ...,  2.2231,  2.2231,  2.2035],\n",
      "         [ 2.2428,  2.1838,  2.1838,  ...,  2.2035,  2.2035,  2.1838],\n",
      "         ...,\n",
      "         [-0.4712, -1.4152, -1.9659,  ...,  1.2004,  1.4561,  1.5544],\n",
      "         [-0.5302, -1.2972, -1.5529,  ...,  1.2988,  1.5151,  1.5544],\n",
      "         [-0.4319, -0.9432, -1.1006,  ...,  1.1808,  1.4168,  1.5151]],\n",
      "\n",
      "        [[ 2.3635,  2.2855,  2.3050,  ...,  2.3245,  2.3245,  2.3050],\n",
      "         [ 2.4221,  2.3635,  2.3635,  ...,  2.3830,  2.3830,  2.3635],\n",
      "         [ 2.4025,  2.3440,  2.3440,  ...,  2.3635,  2.3635,  2.3440],\n",
      "         ...,\n",
      "         [-0.4850, -1.4995, -2.0068,  ...,  1.2709,  1.5441,  1.7002],\n",
      "         [-0.6215, -1.5190, -1.7922,  ...,  1.3490,  1.6026,  1.6807],\n",
      "         [-0.6020, -1.2849, -1.4800,  ...,  1.2514,  1.5051,  1.6612]]])\n"
     ]
    }
   ],
   "source": [
    "img = dataset[1][0]\n",
    "print(img)\n"
   ]
  },
  {
   "cell_type": "code",
   "execution_count": 198,
   "metadata": {},
   "outputs": [],
   "source": [
    "\n",
    "def unnormalize(img):\n",
    "    img = img.clone().detach().numpy()  # Clone and convert to numpy\n",
    "    img = img.transpose((1, 2, 0))  # Rearrange dimensions to Width x Height x Channels\n",
    "    mean = np.array([0.4914, 0.4822, 0.4465])\n",
    "    std = np.array([0.2023, 0.1994, 0.2010])\n",
    "    img = img * std + mean\n",
    "    img = np.clip(img, 0, 1)  # Limit values to range [0, 1]\n",
    "    return img\n",
    "\n",
    "def normalize(img):\n",
    "    # Assumes img is a PyTorch tensor with shape [Channels, Height, Width]\n",
    "    # Convert to numpy and rearrange dimensions if needed (from CHW to HWC)\n",
    "    img = img.clone().detach().permute(1, 2, 0).numpy()\n",
    "    \n",
    "    # Define the mean and standard deviation for each channel\n",
    "    mean = np.array([0.4914, 0.4822, 0.4465])\n",
    "    std = np.array([0.2023, 0.1994, 0.2010])\n",
    "    \n",
    "    # Normalize the image\n",
    "    img = (img - mean) / std\n",
    "    img = np.clip(img, 0, 1)  # Optional: Clip values to ensure they stay between 0 and 1\n",
    "    \n",
    "    # Convert back to PyTorch tensor and revert dimensions back to CxHxW\n",
    "    img = torch.from_numpy(img).float().permute(2, 0, 1)\n",
    "    \n",
    "    return img\n",
    "\n",
    "\n",
    "# Function for visualizing images\n",
    "def imshow(img, label):\n",
    "    \n",
    "    img = unnormalize(img)\n",
    "    \n",
    "    plt.imshow(img)\n",
    "    plt.title(f\"Label: {classes[label]}\")\n",
    "    plt.show()"
   ]
  },
  {
   "cell_type": "markdown",
   "metadata": {},
   "source": [
    "### Pick and display a random image"
   ]
  },
  {
   "cell_type": "code",
   "execution_count": 199,
   "metadata": {},
   "outputs": [
    {
     "data": {
      "image/png": "[encoded data removed]",
      "text/plain": [
       "<Figure size 640x480 with 1 Axes>"
      ]
     },
     "metadata": {},
     "output_type": "display_data"
    }
   ],
   "source": [
    "n_adv_samples = 1\n",
    "\n",
    "eps = 0.02\n",
    "\n",
    "# Pick an index at random\n",
    "idx = random.randint(0, len(dataset) - 1)\n",
    "\n",
    "# Retrieve the image and label\n",
    "orig_image, orig_label = dataset[idx]\n",
    "\n",
    "imshow(orig_image, orig_label)"
   ]
  },
  {
   "cell_type": "code",
   "execution_count": 200,
   "metadata": {},
   "outputs": [
    {
     "data": {
      "text/plain": [
       "tensor([[[-0.4130, -0.2192,  0.0328,  ..., -0.6069, -0.0447, -0.1029],\n",
       "         [-0.1223,  0.2267,  0.4011,  ..., -0.5293, -0.2580, -0.1223],\n",
       "         [-0.1804, -0.0060,  0.2654,  ..., -0.4712, -0.2192, -0.2580],\n",
       "         ...,\n",
       "         [-0.4906, -0.3743,  0.0716,  ..., -0.1223, -0.0060,  0.5368],\n",
       "         [-0.2580,  0.1104, -0.1223,  ...,  0.4011,  0.4593,  1.0796],\n",
       "         [ 0.2848,  0.2654, -0.3355,  ..., -0.1416,  0.3817,  0.9633]],\n",
       "\n",
       "        [[-0.8056, -0.6482, -0.4909,  ..., -1.2382, -0.7466, -0.8056],\n",
       "         [-0.7269, -0.3336, -0.1762,  ..., -1.1202, -0.9236, -0.8056],\n",
       "         [-0.8056, -0.5302, -0.2549,  ..., -1.0809, -0.9236, -0.9236],\n",
       "         ...,\n",
       "         [-0.5499, -0.8646, -0.4122,  ..., -0.9236, -0.6286,  0.1384],\n",
       "         [-0.6089, -0.4909, -0.7269,  ..., -0.3139, -0.1369,  0.7481],\n",
       "         [-0.1762, -0.2156, -0.8252,  ..., -0.6089, -0.0386,  0.7678]],\n",
       "\n",
       "        [[-1.0118, -0.8947, -0.8752,  ..., -1.5385, -1.2849, -1.2849],\n",
       "         [-1.0313, -0.6996, -0.6996,  ..., -1.4605, -1.4410, -1.3044],\n",
       "         [-1.0703, -0.8947, -0.7581,  ..., -1.4605, -1.4410, -1.4020],\n",
       "         ...,\n",
       "         [-1.0118, -1.2654, -0.6996,  ..., -1.3434, -1.1093, -0.3094],\n",
       "         [-1.2069, -1.1093, -1.1873,  ..., -0.8167, -0.7581,  0.1979],\n",
       "         [-0.7386, -0.8947, -1.3044,  ..., -0.9922, -0.5435,  0.3149]]])"
      ]
     },
     "execution_count": 200,
     "metadata": {},
     "output_type": "execute_result"
    }
   ],
   "source": [
    "orig_image"
   ]
  },
  {
   "cell_type": "markdown",
   "metadata": {},
   "source": [
    "### Perturb the image using adversarial attacks"
   ]
  },
  {
   "cell_type": "markdown",
   "metadata": {},
   "source": [
    "## Test accuracy on normal data"
   ]
  },
  {
   "cell_type": "code",
   "execution_count": 201,
   "metadata": {},
   "outputs": [
    {
     "name": "stdout",
     "output_type": "stream",
     "text": [
      "Probabilities: tensor([[-0.2751, -1.2707,  0.6334,  0.5962,  0.7385,  0.1252,  0.3150, -0.2236,\n",
      "         -0.0448, -0.7351]], grad_fn=<AddmmBackward0>)\n",
      "Predicted Label: deer\n"
     ]
    }
   ],
   "source": [
    "logits = classifier(orig_image[None])\n",
    "# probabilities = torch.softmax(logits, dim=0)\n",
    "\n",
    "# Get the predicted label as the index of the highest probability\n",
    "predicted_label = torch.argmax(logits).item()\n",
    "\n",
    "print(\"Probabilities:\", logits)\n",
    "print(\"Predicted Label:\", classes[predicted_label])"
   ]
  },
  {
   "cell_type": "markdown",
   "metadata": {},
   "source": [
    "## Test accuracy on the adversarial dataset"
   ]
  },
  {
   "cell_type": "code",
   "execution_count": 202,
   "metadata": {},
   "outputs": [
    {
     "data": {
      "text/plain": [
       "torch.Size([1, 3, 32, 32])"
      ]
     },
     "execution_count": 202,
     "metadata": {},
     "output_type": "execute_result"
    }
   ],
   "source": [
    "x_adv = fgsm(classifier, x=orig_image[None], label=orig_label, eps=eps, targeted=False).detach()\n",
    "\n",
    "x_adv.shape"
   ]
  },
  {
   "cell_type": "code",
   "execution_count": 203,
   "metadata": {},
   "outputs": [
    {
     "name": "stdout",
     "output_type": "stream",
     "text": [
      "Probabilities: tensor([[-0.2751, -1.2707,  0.6334,  0.5962,  0.7385,  0.1252,  0.3150, -0.2236,\n",
      "         -0.0448, -0.7351]], grad_fn=<AddmmBackward0>)\n",
      "Predicted Label: deer\n"
     ]
    }
   ],
   "source": [
    "classifier(x_adv)\n",
    "\n",
    "# Get the predicted label as the index of the highest probability\n",
    "adv_predicted_label = torch.argmax(logits).item()\n",
    "\n",
    "print(\"Probabilities:\", logits)\n",
    "print(\"Predicted Label:\", classes[adv_predicted_label])"
   ]
  },
  {
   "cell_type": "code",
   "execution_count": 204,
   "metadata": {},
   "outputs": [
    {
     "data": {
      "image/png": "[encoded data removed]",
      "text/plain": [
       "<Figure size 640x480 with 1 Axes>"
      ]
     },
     "metadata": {},
     "output_type": "display_data"
    },
    {
     "name": "stdout",
     "output_type": "stream",
     "text": [
      "The attack was successful!\n",
      "The true label is frog. The predicted label is deer.\n"
     ]
    }
   ],
   "source": [
    "imshow(x_adv[0], adv_predicted_label)\n",
    "if (adv_predicted_label != orig_label):\n",
    "    print(f\"The attack was successful!\")\n",
    "    print(f\"The true label is {classes[orig_label]}. The predicted label is {classes[adv_predicted_label]}.\")\n",
    "else:\n",
    "    print(f\"The attack was not successful!\")"
   ]
  },
  {
   "cell_type": "markdown",
   "metadata": {},
   "source": [
    "## Project the samples using the learned manifold"
   ]
  },
  {
   "cell_type": "code",
   "execution_count": 205,
   "metadata": {},
   "outputs": [],
   "source": [
    "from manifold_flow.flows import ManifoldFlow\n",
    "from manifold_flow import transforms\n",
    "from manifold_flow.architectures.vector_transforms import create_vector_transform\n",
    "from manifold_flow.architectures.image_transforms import create_image_transform\n"
   ]
  },
  {
   "cell_type": "code",
   "execution_count": 206,
   "metadata": {},
   "outputs": [
    {
     "data": {
      "text/plain": [
       "<All keys matched successfully>"
      ]
     },
     "execution_count": 206,
     "metadata": {},
     "output_type": "execute_result"
    }
   ],
   "source": [
    "latentdim = 553\n",
    "outerlayers = 20\n",
    "innerlayers = 6\n",
    "levels = 4\n",
    "splinebins = 11\n",
    "splinerange = 10.0\n",
    "dropout = 0.0\n",
    "actnorm = True\n",
    "batchnorm = False\n",
    "contextfeatures = None\n",
    "linlayers = 2\n",
    "linchannelfactor = 1\n",
    "lineartransform = \"lu\"\n",
    "\n",
    "steps_per_level = outerlayers // levels\n",
    "\n",
    "mflow = ManifoldFlow(\n",
    "        data_dim=(3, 32, 32),\n",
    "        latent_dim=latentdim,\n",
    "        inner_transform = create_vector_transform(\n",
    "            dim = latentdim,\n",
    "            flow_steps = 16 , # previously 6\n",
    "            linear_transform_type = \"permutation\",\n",
    "            base_transform_type = \"rq-coupling\",\n",
    "            hidden_features = 100,\n",
    "            num_transform_blocks = 6, #previously 2\n",
    "            dropout_probability=0.0,\n",
    "            use_batch_norm=False,\n",
    "            num_bins=8,\n",
    "            tail_bound=3,\n",
    "            apply_unconditional_transform=False,\n",
    "            context_features=None,\n",
    "        ),\n",
    "        outer_transform=create_image_transform(\n",
    "            3,\n",
    "            32,\n",
    "            32,\n",
    "            levels=4,\n",
    "            hidden_channels=100,\n",
    "            steps_per_level=steps_per_level,\n",
    "            num_res_blocks=2,\n",
    "            alpha=0.05,\n",
    "            num_bits=8,\n",
    "            preprocessing=\"glow\",\n",
    "            dropout_prob=dropout,\n",
    "            multi_scale=True,\n",
    "            num_bins=splinebins,\n",
    "            tail_bound=splinerange,\n",
    "            postprocessing=\"partial_nsf\",\n",
    "            postprocessing_layers=linlayers,\n",
    "            postprocessing_channel_factor=linchannelfactor,\n",
    "            use_actnorm=actnorm,\n",
    "            use_batchnorm=batchnorm,\n",
    "        )\n",
    "    )\n",
    "\n",
    "# Load model state dict on CPU\n",
    "mflow.load_state_dict(torch.load(\"../models/cifar10_mflow/mflow_cifar10_nsamples5000_normalized_dim553.pt\", map_location=torch.device('cpu')))"
   ]
  },
  {
   "cell_type": "code",
   "execution_count": 207,
   "metadata": {},
   "outputs": [
    {
     "data": {
      "text/plain": [
       "torch.Size([1, 3, 32, 32])"
      ]
     },
     "execution_count": 207,
     "metadata": {},
     "output_type": "execute_result"
    }
   ],
   "source": [
    "x_adv.shape"
   ]
  },
  {
   "cell_type": "code",
   "execution_count": 208,
   "metadata": {},
   "outputs": [],
   "source": [
    "# x_adv = unnormalize(x_adv[0])*255\n",
    "# # Convert back to PyTorch tensor\n",
    "# x_adv = torch.from_numpy(x_adv).int()  # Convert numpy array back to tensor\n",
    "# x_adv = x_adv.permute(2, 0, 1)  # Rearrange dimensions from HxWxC to CxHxW\n",
    "# x_adv = x_adv.unsqueeze(0)"
   ]
  },
  {
   "cell_type": "code",
   "execution_count": 209,
   "metadata": {},
   "outputs": [
    {
     "data": {
      "text/plain": [
       "(tensor(-1.9878), tensor(2.2421))"
      ]
     },
     "execution_count": 209,
     "metadata": {},
     "output_type": "execute_result"
    }
   ],
   "source": [
    "x_adv.min(), x_adv.max()"
   ]
  },
  {
   "cell_type": "code",
   "execution_count": 210,
   "metadata": {},
   "outputs": [],
   "source": [
    "# Transform adversarial attack sample into latent space\n",
    "x_latent = mflow.encode(x_adv.to(device))\n",
    "\n",
    "# Project adversarial attack sample onto manifold\n",
    "x_proj   = mflow.decode(x_latent.to(device)).detach()"
   ]
  },
  {
   "cell_type": "code",
   "execution_count": 211,
   "metadata": {},
   "outputs": [
    {
     "data": {
      "text/plain": [
       "(tensor(-2.1978), tensor(3.3793))"
      ]
     },
     "execution_count": 211,
     "metadata": {},
     "output_type": "execute_result"
    }
   ],
   "source": [
    "x_proj.min(), x_proj.max()"
   ]
  },
  {
   "cell_type": "code",
   "execution_count": 212,
   "metadata": {},
   "outputs": [
    {
     "name": "stdout",
     "output_type": "stream",
     "text": [
      "Probabilities: tensor([[-0.1476, -0.7703,  1.2137,  1.1627,  0.0359,  0.4680,  0.4941, -1.3521,\n",
      "         -0.5745, -0.5023]], grad_fn=<AddmmBackward0>)\n",
      "Predicted Label: bird\n"
     ]
    }
   ],
   "source": [
    "logits = classifier(x_proj)\n",
    "\n",
    "# Get the predicted label as the index of the highest probability\n",
    "proj_predicted_label = torch.argmax(logits).item()\n",
    "\n",
    "print(\"Probabilities:\", logits)\n",
    "print(\"Predicted Label:\", classes[proj_predicted_label])"
   ]
  },
  {
   "cell_type": "code",
   "execution_count": 213,
   "metadata": {},
   "outputs": [
    {
     "data": {
      "image/png": "[encoded data removed]",
      "text/plain": [
       "<Figure size 640x480 with 1 Axes>"
      ]
     },
     "metadata": {},
     "output_type": "display_data"
    },
    {
     "name": "stdout",
     "output_type": "stream",
     "text": [
      "The attack was unsuccessful! Our defense made things worse.\n",
      "The correct label is: frog, the predicted label is : deer, and after the defense it is: bird\n"
     ]
    }
   ],
   "source": [
    "# Display the selected image and its label\n",
    "# _, ax = plt.subplots(1, 2, figsize=(10, 5), dpi=200)\n",
    "# ax[0].imshow(x_adv[0].permute(1, 2, 0), interpolation=\"nearest\")\n",
    "# ax[0].set_title(f\"Adversarial\")\n",
    "# ax[0].axis(\"off\")\n",
    "\n",
    "# ax[1].imshow(x_proj[0].permute(1, 2, 0), interpolation=\"nearest\")\n",
    "\n",
    "# ax[1].set_title(\"Projected\")\n",
    "# ax[1].axis(\"off\");\n",
    "\n",
    "imshow(x_proj[0], proj_predicted_label)\n",
    "\n",
    "if (proj_predicted_label != adv_predicted_label and proj_predicted_label == orig_label and adv_predicted_label != orig_label):\n",
    "    print(f\"The attack was successful! Our defense was successful too.\")\n",
    "    print(f\"The true label is {classes[orig_label]}. The predicted label is {classes[adv_predicted_label]}.\")\n",
    "    print(f\"After projecting onto to the manifold the predicted label is {classes[proj_predicted_label]}.\")\n",
    "elif (proj_predicted_label == adv_predicted_label and adv_predicted_label != orig_label):\n",
    "    print(f\"The attack was successful! But our defense was unsuccessful.\")\n",
    "elif (adv_predicted_label == orig_label and proj_predicted_label == adv_predicted_label):\n",
    "    print(f\"The attack was unsuccessful! Our defense did not worsen it.\")\n",
    "    print(f\"The correct label is {classes[orig_label]}, the predicted label is : {classes[adv_predicted_label]}, and after the defense it is:{classes[proj_predicted_label]}\")\n",
    "else:\n",
    "    print(f\"The attack was unsuccessful! Our defense made things worse.\")\n",
    "    print(f\"The correct label is: {classes[orig_label]}, the predicted label is : {classes[adv_predicted_label]}, and after the defense it is: {classes[proj_predicted_label]}\")\n"
   ]
  },
  {
   "cell_type": "code",
   "execution_count": 214,
   "metadata": {},
   "outputs": [
    {
     "data": {
      "image/png": "[encoded data removed]",
      "text/plain": [
       "<Figure size 2000x500 with 4 Axes>"
      ]
     },
     "metadata": {},
     "output_type": "display_data"
    }
   ],
   "source": [
    "# Assuming images are numpy arrays named img1, img2, img3\n",
    "# For demonstration, let's create dummy data for these images\n",
    "img1 = unnormalize(orig_image)  # Random image 1\n",
    "img2 = unnormalize(orig_image)  # Random image 3\n",
    "img3 = unnormalize(x_adv[0])  # Random image 2\n",
    "img4 = unnormalize(x_proj[0])  # Random image 3\n",
    "\n",
    "# Create a figure and a set of subplots\n",
    "fig, axs = plt.subplots(nrows=1, ncols=4, figsize=(20, 5))\n",
    "\n",
    "# Plot each image on its respective axis\n",
    "axs[0].imshow(img1)\n",
    "axs[0].set_title(f\"Original Image (label: {classes[orig_label]})\")\n",
    "axs[0].axis('off')  # Turn off axis\n",
    "\n",
    "axs[1].imshow(img2)\n",
    "axs[1].set_title(f\"Original Image (prediction: {classes[predicted_label]})\")\n",
    "axs[1].axis('off')  # Turn off axis\n",
    "\n",
    "axs[2].imshow(img3)\n",
    "axs[2].set_title(f\"Adversarial Image (prediction: {classes[adv_predicted_label]})\")\n",
    "axs[2].axis('off')  # Turn off axis\n",
    "\n",
    "axs[3].imshow(img4)\n",
    "axs[3].set_title(f\"Projected Image (prediction: {classes[proj_predicted_label]})\")\n",
    "axs[3].axis('off')  # Turn off axis\n",
    "\n",
    "# Display the plot\n",
    "plt.tight_layout()  # Adjust layout to not overlap\n",
    "plt.show()"
   ]
  },
  {
   "cell_type": "code",
   "execution_count": 215,
   "metadata": {},
   "outputs": [
    {
     "data": {
      "text/plain": [
       "array([   2,   80,  159,  238,  316,  395,  474,  553,  631,  710,  789,\n",
       "        867,  946, 1025, 1104, 1182, 1261, 1340, 1418, 1497, 1576, 1655,\n",
       "       1733, 1812, 1891, 1969, 2048, 2127, 2206, 2284, 2363, 2442, 2520,\n",
       "       2599, 2678, 2757, 2835, 2914, 2993, 3072], dtype=int32)"
      ]
     },
     "execution_count": 215,
     "metadata": {},
     "output_type": "execute_result"
    }
   ],
   "source": [
    "dims = np.linspace(2, 3072, 40, dtype=np.int32)\n",
    "dims"
   ]
  }
 ],
 "metadata": {
  "kernelspec": {
   "display_name": "mflows",
   "language": "python",
   "name": "python3"
  },
  "language_info": {
   "codemirror_mode": {
    "name": "ipython",
    "version": 3
   },
   "file_extension": ".py",
   "mimetype": "text/x-python",
   "name": "python",
   "nbconvert_exporter": "python",
   "pygments_lexer": "ipython3",
   "version": "3.12.4"
  }
 },
 "nbformat": 4,
 "nbformat_minor": 2
}
