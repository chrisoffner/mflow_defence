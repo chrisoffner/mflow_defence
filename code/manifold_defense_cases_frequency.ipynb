{
 "cells": [
  {
   "cell_type": "code",
   "execution_count": 1,
   "metadata": {},
   "outputs": [],
   "source": [
    "import torch\n",
    "import matplotlib.pyplot as plt\n",
    "from matplotlib import colors\n",
    "from torch.utils.data import TensorDataset\n",
    "from pathlib import Path\n",
    "import random\n",
    "import numpy as np\n",
    "from tqdm import tqdm\n",
    "from torch.utils.data import DataLoader\n",
    "\n",
    "from torchvision import datasets, transforms\n",
    "\n",
    "from two_spirals_utils import spiral_dataset, SpiralClassifier\n",
    "from utils.utils import get_grid_predictions, create_contour_plot, resnet_CIFAR10\n",
    "from utils.attacks import fgsm, pgd\n",
    "\n",
    "import tarfile\n",
    "import os\n",
    "\n",
    "import datetime\n",
    "import math\n"
   ]
  },
  {
   "cell_type": "code",
   "execution_count": 2,
   "metadata": {},
   "outputs": [
    {
     "name": "stdout",
     "output_type": "stream",
     "text": [
      "Using device: mps\n"
     ]
    }
   ],
   "source": [
    "device = torch.device(\n",
    "    \"mps\" if torch.backends.mps.is_available()\n",
    "    else \"cuda\" if torch.cuda.is_available()\n",
    "    else \"cpu\"\n",
    ")\n",
    "print(f\"Using device: {device}\")"
   ]
  },
  {
   "cell_type": "markdown",
   "metadata": {},
   "source": [
    "## Load original CIFAR10 test images"
   ]
  },
  {
   "cell_type": "code",
   "execution_count": 3,
   "metadata": {},
   "outputs": [
    {
     "name": "stdout",
     "output_type": "stream",
     "text": [
      "Files already downloaded and verified\n"
     ]
    }
   ],
   "source": [
    "# Load the CIFAR10 dataset\n",
    "transform = transforms.Compose([\n",
    "        transforms.ToTensor(),\n",
    "        transforms.Normalize((0.4914, 0.4822, 0.4465), (0.2023, 0.1994, 0.2010))\n",
    "    ])\n",
    "\n",
    "normalize = transforms.Normalize((0.4914, 0.4822, 0.4465), (0.2023, 0.1994, 0.2010))\n",
    "\n",
    "data_orig = datasets.CIFAR10(root='./data', train=False, download=True, transform=transform)\n",
    "\n",
    "BATCH_SIZE = 1024\n",
    "loader_orig = DataLoader(data_orig, batch_size=BATCH_SIZE, shuffle=False)\n",
    "\n",
    "# CIFAR10 class labels for reference"
   ]
  },
  {
   "cell_type": "code",
   "execution_count": 4,
   "metadata": {},
   "outputs": [
    {
     "name": "stderr",
     "output_type": "stream",
     "text": [
      "Clipping input data to the valid range for imshow with RGB data ([0..1] for floats or [0..255] for integers).\n"
     ]
    },
    {
     "data": {
      "text/plain": [
       "<matplotlib.image.AxesImage at 0x31a649cd0>"
      ]
     },
     "execution_count": 4,
     "metadata": {},
     "output_type": "execute_result"
    },
    {
     "data": {
      "image/png": "[encoded data removed]",
      "text/plain": [
       "<Figure size 640x480 with 1 Axes>"
      ]
     },
     "metadata": {},
     "output_type": "display_data"
    }
   ],
   "source": [
    "plt.imshow(data_orig[0][0].permute(1,2,0))"
   ]
  },
  {
   "cell_type": "markdown",
   "metadata": {},
   "source": [
    "## Load pretrained classifier"
   ]
  },
  {
   "cell_type": "code",
   "execution_count": 5,
   "metadata": {},
   "outputs": [],
   "source": [
    "# Assuming the checkpoint is stored at './resnet_checkpoint.pth'\n",
    "checkpoint_path = '../models/resnet/resnet50_cifar10.pt'\n",
    "device = 'cuda' if torch.cuda.is_available() else 'cpu'\n",
    "\n",
    "# Create an instance of the model\n",
    "classifier = resnet_CIFAR10(resnet_checkpoint=checkpoint_path, device=device)"
   ]
  },
  {
   "cell_type": "markdown",
   "metadata": {},
   "source": [
    "## Load mflow model\n",
    "\n",
    "This model was trained on the 50.000 samples of the CIFAR10 train dataset. We specified a latent dimension of 500 and trained the model for 25 epochs."
   ]
  },
  {
   "cell_type": "code",
   "execution_count": 6,
   "metadata": {},
   "outputs": [],
   "source": [
    "from manifold_flow.flows import ManifoldFlow\n",
    "from manifold_flow import transforms\n",
    "from manifold_flow.architectures.vector_transforms import create_vector_transform\n",
    "from manifold_flow.architectures.image_transforms import create_image_transform"
   ]
  },
  {
   "cell_type": "code",
   "execution_count": 7,
   "metadata": {},
   "outputs": [
    {
     "data": {
      "text/plain": [
       "<All keys matched successfully>"
      ]
     },
     "execution_count": 7,
     "metadata": {},
     "output_type": "execute_result"
    }
   ],
   "source": [
    "latentdim = 500\n",
    "outerlayers = 20\n",
    "innerlayers = 6\n",
    "levels = 4\n",
    "splinebins = 11\n",
    "splinerange = 10.0\n",
    "dropout = 0.0\n",
    "actnorm = True\n",
    "batchnorm = False\n",
    "contextfeatures = None\n",
    "linlayers = 2\n",
    "linchannelfactor = 1\n",
    "lineartransform = \"lu\"\n",
    "\n",
    "steps_per_level = outerlayers // levels\n",
    "\n",
    "mflow = ManifoldFlow(\n",
    "        data_dim=(3, 32, 32),\n",
    "        latent_dim=latentdim,\n",
    "        inner_transform = create_vector_transform(\n",
    "            dim = latentdim,\n",
    "            flow_steps = 16 , # previously 6\n",
    "            linear_transform_type = \"permutation\",\n",
    "            base_transform_type = \"rq-coupling\",\n",
    "            hidden_features = 100,\n",
    "            num_transform_blocks = 6, #previously 2\n",
    "            dropout_probability=0.0,\n",
    "            use_batch_norm=False,\n",
    "            num_bins=8,\n",
    "            tail_bound=3,\n",
    "            apply_unconditional_transform=False,\n",
    "            context_features=None,\n",
    "        ),\n",
    "        outer_transform=create_image_transform(\n",
    "            3,\n",
    "            32,\n",
    "            32,\n",
    "            levels=4,\n",
    "            hidden_channels=100,\n",
    "            steps_per_level=steps_per_level,\n",
    "            num_res_blocks=2,\n",
    "            alpha=0.05,\n",
    "            num_bits=8,\n",
    "            preprocessing=\"glow\",\n",
    "            dropout_prob=dropout,\n",
    "            multi_scale=True,\n",
    "            num_bins=splinebins,\n",
    "            tail_bound=splinerange,\n",
    "            postprocessing=\"partial_nsf\",\n",
    "            postprocessing_layers=linlayers,\n",
    "            postprocessing_channel_factor=linchannelfactor,\n",
    "            use_actnorm=actnorm,\n",
    "            use_batchnorm=batchnorm,\n",
    "        )\n",
    "    )\n",
    "\n",
    "# Load model state dict on CPU\n",
    "mflow.load_state_dict(torch.load(\"../models/cifar10_mflow/mflow_cifar10_nsamples50000_normalized_dim500_run0.pt\", map_location=torch.device(device)))"
   ]
  },
  {
   "cell_type": "markdown",
   "metadata": {},
   "source": [
    "## Load attacked CIFAR10 dataset"
   ]
  },
  {
   "cell_type": "code",
   "execution_count": 8,
   "metadata": {},
   "outputs": [],
   "source": [
    "file_path = \"../data/cifar10_attacked/cifar10_pgd_eps_0.100.tar.gz\"\n",
    "extraction_path = \"../data/cifar10_attacked/\""
   ]
  },
  {
   "cell_type": "code",
   "execution_count": 9,
   "metadata": {},
   "outputs": [
    {
     "name": "stdout",
     "output_type": "stream",
     "text": [
      "Extracting: cifar10_pgd_eps_0.100.pt\n"
     ]
    },
    {
     "name": "stderr",
     "output_type": "stream",
     "text": [
      "/var/folders/dr/07tl1lzs7_g29ddcffd8hmr00000gn/T/ipykernel_465/2999437173.py:7: DeprecationWarning: Python 3.14 will, by default, filter extracted tar archives and reject files or modify their metadata. Use the filter argument to control this behavior.\n",
      "  tar.extractall(path = extraction_path, members=(safe_extract(m) for m in tar.getmembers()))\n"
     ]
    }
   ],
   "source": [
    "def safe_extract(member):\n",
    "    print(f\"Extracting: {member.name}\")\n",
    "    return member\n",
    "\n",
    "try:\n",
    "    with tarfile.open(file_path, \"r:gz\") as tar:\n",
    "        tar.extractall(path = extraction_path, members=(safe_extract(m) for m in tar.getmembers()))\n",
    "except Exception as e:\n",
    "    print(f\"An error occurred: {e}\")"
   ]
  },
  {
   "cell_type": "code",
   "execution_count": 10,
   "metadata": {},
   "outputs": [
    {
     "name": "stderr",
     "output_type": "stream",
     "text": [
      "WARNING:matplotlib.image:Clipping input data to the valid range for imshow with RGB data ([0..1] for floats or [0..255] for integers).\n"
     ]
    },
    {
     "name": "stdout",
     "output_type": "stream",
     "text": [
      "3072\n"
     ]
    },
    {
     "data": {
      "text/plain": [
       "<matplotlib.image.AxesImage at 0x324e77110>"
      ]
     },
     "execution_count": 10,
     "metadata": {},
     "output_type": "execute_result"
    },
    {
     "data": {
      "image/png": "[encoded data removed]",
      "text/plain": [
       "<Figure size 640x480 with 1 Axes>"
      ]
     },
     "metadata": {},
     "output_type": "display_data"
    }
   ],
   "source": [
    "# Load data\n",
    "idx=2\n",
    "data_adv = torch.load(file_path.replace(\"tar.gz\", \"pt\"), map_location=device)\n",
    "loader_adv = DataLoader(data_adv, batch_size=BATCH_SIZE, shuffle=False)\n",
    "print(len(data_adv))\n",
    "\n",
    "plt.imshow(data_orig[idx][0].permute(1, 2, 0))\n",
    "plt.imshow(data_adv[idx][0].permute(1, 2, 0))"
   ]
  },
  {
   "cell_type": "markdown",
   "metadata": {},
   "source": [
    "## Perform inference on attacked dataset for each epsilon and visualize frequencies"
   ]
  },
  {
   "cell_type": "code",
   "execution_count": 11,
   "metadata": {},
   "outputs": [],
   "source": [
    "import re\n",
    "# Find out what epsilons we have\n",
    "path_to_folder = '../data/cifar10_attacked/'\n",
    "files = os.listdir(path_to_folder)\n"
   ]
  },
  {
   "cell_type": "code",
   "execution_count": 12,
   "metadata": {},
   "outputs": [],
   "source": [
    "pattern = r'cifar10_pgd_eps_(\\d+\\.\\d+).tar.gz'\n",
    "numbers = []\n",
    "\n",
    "for file in files:\n",
    "    match = re.search(pattern, file)\n",
    "    if match:\n",
    "        number = float(match.group(1))\n",
    "        numbers.append(number)\n",
    "\n",
    "epsilons = sorted(numbers)"
   ]
  },
  {
   "cell_type": "code",
   "execution_count": 13,
   "metadata": {},
   "outputs": [],
   "source": [
    "def print_with_time(message):\n",
    "    current_time = datetime.datetime.now().strftime(\"%H:%M:%S\")\n",
    "    print(f\"[{current_time}] {message}\")"
   ]
  },
  {
   "cell_type": "code",
   "execution_count": 14,
   "metadata": {},
   "outputs": [
    {
     "name": "stdout",
     "output_type": "stream",
     "text": [
      "[09:39:42] Running attacked dataset with epsilon 0.000\n",
      "Extracting: cifar10_pgd_eps_0.000.pt\n"
     ]
    },
    {
     "name": "stderr",
     "output_type": "stream",
     "text": [
      "/var/folders/dr/07tl1lzs7_g29ddcffd8hmr00000gn/T/ipykernel_465/2443588028.py:8: DeprecationWarning: Python 3.14 will, by default, filter extracted tar archives and reject files or modify their metadata. Use the filter argument to control this behavior.\n",
      "  tar.extractall(path = extraction_path, members=(safe_extract(m) for m in tar.getmembers()))\n"
     ]
    },
    {
     "name": "stdout",
     "output_type": "stream",
     "text": [
      "[09:39:42] Processing batch 1 of 10\n",
      "[09:43:56] Processing batch 2 of 10\n",
      "[09:48:11] Processing batch 3 of 10\n",
      "[09:52:21] Running attacked dataset with epsilon 0.002\n",
      "Extracting: cifar10_pgd_eps_0.002.pt\n",
      "[09:52:22] Processing batch 1 of 10\n",
      "[09:56:29] Processing batch 2 of 10\n",
      "[10:00:36] Processing batch 3 of 10\n",
      "[10:04:46] Running attacked dataset with epsilon 0.004\n",
      "Extracting: cifar10_pgd_eps_0.004.pt\n",
      "[10:04:46] Processing batch 1 of 10\n",
      "[10:08:57] Processing batch 2 of 10\n",
      "[10:13:05] Processing batch 3 of 10\n",
      "[10:17:08] Running attacked dataset with epsilon 0.006\n",
      "Extracting: cifar10_pgd_eps_0.006.pt\n",
      "[10:17:08] Processing batch 1 of 10\n",
      "[10:21:13] Processing batch 2 of 10\n",
      "[10:25:18] Processing batch 3 of 10\n",
      "[10:29:22] Running attacked dataset with epsilon 0.008\n",
      "Extracting: cifar10_pgd_eps_0.008.pt\n",
      "[10:29:22] Processing batch 1 of 10\n",
      "[10:33:31] Processing batch 2 of 10\n",
      "[10:37:43] Processing batch 3 of 10\n",
      "[10:41:55] Running attacked dataset with epsilon 0.010\n",
      "Extracting: cifar10_pgd_eps_0.010.pt\n",
      "[10:41:56] Processing batch 1 of 10\n",
      "[10:46:06] Processing batch 2 of 10\n",
      "[10:50:17] Processing batch 3 of 10\n",
      "[10:54:29] Running attacked dataset with epsilon 0.012\n",
      "Extracting: cifar10_pgd_eps_0.012.pt\n",
      "[10:54:29] Processing batch 1 of 10\n",
      "[10:58:39] Processing batch 2 of 10\n",
      "[11:02:49] Processing batch 3 of 10\n",
      "[11:07:25] Running attacked dataset with epsilon 0.014\n",
      "Extracting: cifar10_pgd_eps_0.014.pt\n",
      "[11:07:26] Processing batch 1 of 10\n",
      "[11:12:10] Processing batch 2 of 10\n",
      "[11:17:15] Processing batch 3 of 10\n",
      "[11:22:16] Running attacked dataset with epsilon 0.016\n",
      "Extracting: cifar10_pgd_eps_0.016.pt\n",
      "[11:22:16] Processing batch 1 of 10\n",
      "[11:27:26] Processing batch 2 of 10\n",
      "[11:32:20] Processing batch 3 of 10\n",
      "[11:37:25] Running attacked dataset with epsilon 0.018\n",
      "Extracting: cifar10_pgd_eps_0.018.pt\n",
      "[11:37:26] Processing batch 1 of 10\n",
      "[11:42:25] Processing batch 2 of 10\n",
      "[11:47:27] Processing batch 3 of 10\n",
      "[11:52:38] Running attacked dataset with epsilon 0.020\n",
      "Extracting: cifar10_pgd_eps_0.020.pt\n",
      "[11:52:38] Processing batch 1 of 10\n",
      "[11:57:41] Processing batch 2 of 10\n",
      "[12:02:11] Processing batch 3 of 10\n",
      "[12:06:24] Running attacked dataset with epsilon 0.022\n",
      "Extracting: cifar10_pgd_eps_0.022.pt\n",
      "[12:06:24] Processing batch 1 of 10\n",
      "[12:10:37] Processing batch 2 of 10\n",
      "[12:14:45] Processing batch 3 of 10\n",
      "[12:18:55] Running attacked dataset with epsilon 0.024\n",
      "Extracting: cifar10_pgd_eps_0.024.pt\n",
      "[12:18:55] Processing batch 1 of 10\n",
      "[12:23:05] Processing batch 2 of 10\n",
      "[12:27:15] Processing batch 3 of 10\n",
      "[12:31:24] Running attacked dataset with epsilon 0.027\n",
      "Extracting: cifar10_pgd_eps_0.027.pt\n",
      "[12:31:25] Processing batch 1 of 10\n",
      "[12:35:33] Processing batch 2 of 10\n",
      "[12:39:40] Processing batch 3 of 10\n",
      "[12:43:48] Running attacked dataset with epsilon 0.029\n",
      "Extracting: cifar10_pgd_eps_0.029.pt\n",
      "[12:43:48] Processing batch 1 of 10\n",
      "[12:47:55] Processing batch 2 of 10\n",
      "[12:52:01] Processing batch 3 of 10\n",
      "[12:56:08] Running attacked dataset with epsilon 0.031\n",
      "Extracting: cifar10_pgd_eps_0.031.pt\n",
      "[12:56:09] Processing batch 1 of 10\n",
      "[13:00:17] Processing batch 2 of 10\n",
      "[13:04:22] Processing batch 3 of 10\n",
      "[13:08:27] Running attacked dataset with epsilon 0.033\n",
      "Extracting: cifar10_pgd_eps_0.033.pt\n",
      "[13:08:28] Processing batch 1 of 10\n",
      "[13:12:33] Processing batch 2 of 10\n",
      "[13:16:37] Processing batch 3 of 10\n",
      "[13:20:43] Running attacked dataset with epsilon 0.035\n",
      "Extracting: cifar10_pgd_eps_0.035.pt\n",
      "[13:20:44] Processing batch 1 of 10\n",
      "[13:24:51] Processing batch 2 of 10\n",
      "[13:28:56] Processing batch 3 of 10\n",
      "[13:33:02] Running attacked dataset with epsilon 0.037\n",
      "Extracting: cifar10_pgd_eps_0.037.pt\n",
      "[13:33:02] Processing batch 1 of 10\n",
      "[13:37:08] Processing batch 2 of 10\n",
      "[13:41:14] Processing batch 3 of 10\n",
      "[13:45:19] Running attacked dataset with epsilon 0.039\n",
      "Extracting: cifar10_pgd_eps_0.039.pt\n",
      "[13:45:19] Processing batch 1 of 10\n",
      "[13:49:29] Processing batch 2 of 10\n",
      "[13:53:37] Processing batch 3 of 10\n",
      "[13:57:44] Running attacked dataset with epsilon 0.041\n",
      "Extracting: cifar10_pgd_eps_0.041.pt\n",
      "[13:57:45] Processing batch 1 of 10\n",
      "[14:01:49] Processing batch 2 of 10\n",
      "[14:05:53] Processing batch 3 of 10\n",
      "[14:09:57] Running attacked dataset with epsilon 0.043\n",
      "Extracting: cifar10_pgd_eps_0.043.pt\n",
      "[14:09:57] Processing batch 1 of 10\n",
      "[14:14:01] Processing batch 2 of 10\n",
      "[14:18:05] Processing batch 3 of 10\n",
      "[14:22:08] Running attacked dataset with epsilon 0.045\n",
      "Extracting: cifar10_pgd_eps_0.045.pt\n",
      "[14:22:08] Processing batch 1 of 10\n",
      "[14:26:11] Processing batch 2 of 10\n",
      "[14:30:14] Processing batch 3 of 10\n",
      "[14:34:18] Running attacked dataset with epsilon 0.047\n",
      "Extracting: cifar10_pgd_eps_0.047.pt\n",
      "[14:34:19] Processing batch 1 of 10\n",
      "[14:38:22] Processing batch 2 of 10\n",
      "[14:42:24] Processing batch 3 of 10\n",
      "[14:46:27] Running attacked dataset with epsilon 0.049\n",
      "Extracting: cifar10_pgd_eps_0.049.pt\n",
      "[14:46:27] Processing batch 1 of 10\n",
      "[14:50:30] Processing batch 2 of 10\n",
      "[14:54:32] Processing batch 3 of 10\n",
      "[14:58:35] Running attacked dataset with epsilon 0.051\n",
      "Extracting: cifar10_pgd_eps_0.051.pt\n",
      "[14:58:35] Processing batch 1 of 10\n",
      "[15:02:39] Processing batch 2 of 10\n",
      "[15:06:42] Processing batch 3 of 10\n",
      "[15:10:47] Running attacked dataset with epsilon 0.053\n",
      "Extracting: cifar10_pgd_eps_0.053.pt\n",
      "[15:10:48] Processing batch 1 of 10\n",
      "[15:14:53] Processing batch 2 of 10\n",
      "[15:18:57] Processing batch 3 of 10\n",
      "[15:23:03] Running attacked dataset with epsilon 0.055\n",
      "Extracting: cifar10_pgd_eps_0.055.pt\n",
      "[15:23:04] Processing batch 1 of 10\n",
      "[15:27:15] Processing batch 2 of 10\n",
      "[15:31:41] Processing batch 3 of 10\n",
      "[15:36:15] Running attacked dataset with epsilon 0.057\n",
      "Extracting: cifar10_pgd_eps_0.057.pt\n",
      "[15:36:16] Processing batch 1 of 10\n",
      "[15:40:51] Processing batch 2 of 10\n",
      "[15:45:26] Processing batch 3 of 10\n",
      "[15:49:54] Running attacked dataset with epsilon 0.059\n",
      "Extracting: cifar10_pgd_eps_0.059.pt\n",
      "[15:49:55] Processing batch 1 of 10\n",
      "[15:54:18] Processing batch 2 of 10\n",
      "[15:58:39] Processing batch 3 of 10\n",
      "[16:02:46] Running attacked dataset with epsilon 0.061\n",
      "Extracting: cifar10_pgd_eps_0.061.pt\n",
      "[16:02:46] Processing batch 1 of 10\n",
      "[16:07:02] Processing batch 2 of 10\n",
      "[16:11:08] Processing batch 3 of 10\n",
      "[16:15:14] Running attacked dataset with epsilon 0.063\n",
      "Extracting: cifar10_pgd_eps_0.063.pt\n",
      "[16:15:14] Processing batch 1 of 10\n",
      "[16:19:21] Processing batch 2 of 10\n",
      "[16:23:29] Processing batch 3 of 10\n",
      "[16:27:34] Running attacked dataset with epsilon 0.065\n",
      "Extracting: cifar10_pgd_eps_0.065.pt\n",
      "[16:27:35] Processing batch 1 of 10\n",
      "[16:31:54] Processing batch 2 of 10\n",
      "[16:36:04] Processing batch 3 of 10\n",
      "[16:40:12] Running attacked dataset with epsilon 0.067\n",
      "Extracting: cifar10_pgd_eps_0.067.pt\n",
      "[16:40:12] Processing batch 1 of 10\n",
      "[16:44:19] Processing batch 2 of 10\n",
      "[16:48:29] Processing batch 3 of 10\n",
      "[16:52:39] Running attacked dataset with epsilon 0.069\n",
      "Extracting: cifar10_pgd_eps_0.069.pt\n",
      "[16:52:39] Processing batch 1 of 10\n",
      "[16:56:51] Processing batch 2 of 10\n",
      "[17:01:02] Processing batch 3 of 10\n",
      "[17:05:10] Running attacked dataset with epsilon 0.071\n",
      "Extracting: cifar10_pgd_eps_0.071.pt\n",
      "[17:05:11] Processing batch 1 of 10\n",
      "[17:09:17] Processing batch 2 of 10\n",
      "[17:13:27] Processing batch 3 of 10\n",
      "[17:17:37] Running attacked dataset with epsilon 0.073\n",
      "Extracting: cifar10_pgd_eps_0.073.pt\n",
      "[17:17:37] Processing batch 1 of 10\n",
      "[17:21:48] Processing batch 2 of 10\n",
      "[17:25:58] Processing batch 3 of 10\n",
      "[17:30:06] Running attacked dataset with epsilon 0.076\n",
      "Extracting: cifar10_pgd_eps_0.076.pt\n",
      "[17:30:06] Processing batch 1 of 10\n",
      "[17:34:14] Processing batch 2 of 10\n",
      "[17:38:23] Processing batch 3 of 10\n",
      "[17:42:35] Running attacked dataset with epsilon 0.078\n",
      "Extracting: cifar10_pgd_eps_0.078.pt\n",
      "[17:42:35] Processing batch 1 of 10\n",
      "[17:46:44] Processing batch 2 of 10\n",
      "[17:50:56] Processing batch 3 of 10\n",
      "[17:55:09] Running attacked dataset with epsilon 0.080\n",
      "Extracting: cifar10_pgd_eps_0.080.pt\n",
      "[17:55:09] Processing batch 1 of 10\n",
      "[17:59:22] Processing batch 2 of 10\n",
      "[18:03:33] Processing batch 3 of 10\n",
      "[18:07:46] Running attacked dataset with epsilon 0.082\n",
      "Extracting: cifar10_pgd_eps_0.082.pt\n",
      "[18:07:47] Processing batch 1 of 10\n",
      "[18:11:58] Processing batch 2 of 10\n",
      "[18:16:11] Processing batch 3 of 10\n",
      "[18:20:23] Running attacked dataset with epsilon 0.084\n",
      "Extracting: cifar10_pgd_eps_0.084.pt\n",
      "[18:20:23] Processing batch 1 of 10\n",
      "[18:24:40] Processing batch 2 of 10\n",
      "[18:28:54] Processing batch 3 of 10\n",
      "[18:33:05] Running attacked dataset with epsilon 0.086\n",
      "Extracting: cifar10_pgd_eps_0.086.pt\n",
      "[18:33:06] Processing batch 1 of 10\n",
      "[18:37:20] Processing batch 2 of 10\n",
      "[18:41:31] Processing batch 3 of 10\n",
      "[18:45:43] Running attacked dataset with epsilon 0.088\n",
      "Extracting: cifar10_pgd_eps_0.088.pt\n",
      "[18:45:44] Processing batch 1 of 10\n",
      "[18:49:55] Processing batch 2 of 10\n",
      "[18:54:07] Processing batch 3 of 10\n",
      "[18:58:20] Running attacked dataset with epsilon 0.090\n",
      "Extracting: cifar10_pgd_eps_0.090.pt\n",
      "[18:58:21] Processing batch 1 of 10\n",
      "[19:02:31] Processing batch 2 of 10\n",
      "[19:06:50] Processing batch 3 of 10\n",
      "[19:11:04] Running attacked dataset with epsilon 0.092\n",
      "Extracting: cifar10_pgd_eps_0.092.pt\n",
      "[19:11:04] Processing batch 1 of 10\n",
      "[19:15:17] Processing batch 2 of 10\n",
      "[19:19:28] Processing batch 3 of 10\n",
      "[19:23:37] Running attacked dataset with epsilon 0.094\n",
      "Extracting: cifar10_pgd_eps_0.094.pt\n",
      "[19:23:37] Processing batch 1 of 10\n",
      "[19:27:49] Processing batch 2 of 10\n",
      "[19:32:06] Processing batch 3 of 10\n",
      "[19:36:27] Running attacked dataset with epsilon 0.096\n",
      "Extracting: cifar10_pgd_eps_0.096.pt\n",
      "[19:36:27] Processing batch 1 of 10\n",
      "[19:40:43] Processing batch 2 of 10\n",
      "[19:45:00] Processing batch 3 of 10\n",
      "[19:49:22] Running attacked dataset with epsilon 0.098\n",
      "Extracting: cifar10_pgd_eps_0.098.pt\n",
      "[19:49:23] Processing batch 1 of 10\n",
      "[19:53:34] Processing batch 2 of 10\n",
      "[19:57:44] Processing batch 3 of 10\n",
      "[20:01:54] Running attacked dataset with epsilon 0.100\n",
      "Extracting: cifar10_pgd_eps_0.100.pt\n",
      "[20:01:55] Processing batch 1 of 10\n",
      "[20:06:04] Processing batch 2 of 10\n",
      "[20:10:12] Processing batch 3 of 10\n"
     ]
    }
   ],
   "source": [
    "results    = torch.zeros(50, 4)\n",
    "for idx_eps, eps in enumerate(epsilons):\n",
    "    print_with_time(f\"Running attacked dataset with epsilon {eps:.3f}\")\n",
    "    file_path = f\"../data/cifar10_attacked/cifar10_pgd_eps_{eps:.3f}.tar.gz\"\n",
    "    extraction_path = \"../data/cifar10_attacked/\"\n",
    "\n",
    "    with tarfile.open(file_path, \"r:gz\") as tar:\n",
    "        tar.extractall(path = extraction_path, members=(safe_extract(m) for m in tar.getmembers()))\n",
    "\n",
    "    total_batch_count = math.ceil(10000 / BATCH_SIZE)\n",
    "    data = torch.load(file_path.replace(\"tar.gz\", \"pt\"), map_location=device)\n",
    "    loader_adv = DataLoader(data, batch_size=BATCH_SIZE, shuffle=False)\n",
    "    \n",
    "    i = 0\n",
    "    for (x_adv, _), (x_orig, y_orig) in zip(loader_adv, loader_orig):\n",
    "        i += 1\n",
    "        print_with_time(f\"Processing batch {i} of {total_batch_count}\")\n",
    "        # Here you can process your data, e.g., pass it through a neural network\n",
    "\n",
    "        # Transform adversarial attack sample into latent space\n",
    "        x_latent = mflow.encode(normalize(x_adv))\n",
    "\n",
    "        # Project adversarial attack sample onto manifold\n",
    "        x_proj   = mflow.decode(x_latent).detach()\n",
    "\n",
    "        with torch.no_grad():\n",
    "            pred_def = classifier(x_proj)\n",
    "            pred_def = pred_def.argmax(axis=1)\n",
    "\n",
    "            pred_orig = classifier(x_orig)\n",
    "            pred_orig = pred_orig.argmax(axis=1)\n",
    "\n",
    "            pred_adv = classifier(x_adv)\n",
    "            pred_adv = pred_adv.argmax(axis=1)\n",
    "\n",
    "        correct_preds = y_orig == pred_orig     # Mask used to filter out cases that our classifier gets wrong from the start\n",
    "\n",
    "        att_success = pred_adv != y_orig\n",
    "        def_success = pred_def == y_orig\n",
    "\n",
    "        # Case (A)\n",
    "        results[idx_eps, 0] += ((def_success & att_success) & correct_preds).sum()\n",
    "\n",
    "        # Case (B)\n",
    "        results[idx_eps, 1] += ((def_success & ~att_success) & correct_preds).sum()\n",
    "\n",
    "        # Case (C)\n",
    "        results[idx_eps, 2] += ((~def_success & att_success) & correct_preds).sum()\n",
    "\n",
    "        # Case (D)\n",
    "        results[idx_eps, 3] += ((~def_success & ~att_success) & correct_preds).sum()\n",
    "\n",
    "        if i == 3:\n",
    "            break\n",
    "\n",
    "\n",
    "\n",
    "    # Remove .pt file, only tar.gz will remain\n",
    "    os.remove(file_path.replace(\"tar.gz\", \"pt\"))\n",
    "    torch.save(results, f\"pgd_frequency_results_checkpoint_last_eps_{eps}.pt\")\n",
    "\n",
    "\n",
    "torch.save(results, f\"pgd_frequency_results.pt\")"
   ]
  },
  {
   "cell_type": "code",
   "execution_count": 50,
   "metadata": {},
   "outputs": [],
   "source": [
    "results = torch.load(f\"pgd_frequency_results.pt\")\n",
    "# Normalise all cases so we get probabilities that sum to 1\n",
    "results /= results.sum(dim=1)[:,None]\n",
    "A, B, C, D = results.T"
   ]
  },
  {
   "cell_type": "code",
   "execution_count": 35,
   "metadata": {},
   "outputs": [
    {
     "name": "stdout",
     "output_type": "stream",
     "text": [
      "y_orig: tensor([8, 3])\n",
      "pred_orig: tensor([8, 3])\n",
      "pred_adv: tensor([8, 2])\n",
      "pred_def: tensor([8, 6])\n",
      "correct_preds: tensor([True, True])\n",
      "successful attack: tensor([False,  True]), successful defense: tensor([ True, False])\n"
     ]
    }
   ],
   "source": [
    "idx = [0,1]\n",
    "\n",
    "print(f\"y_orig: {y_orig[idx]}\")\n",
    "print(f\"pred_orig: {pred_orig[idx]}\")\n",
    "print(f\"pred_adv: {pred_adv[idx]}\")\n",
    "print(f\"pred_def: {pred_def[idx]}\")\n",
    "\n",
    "print(f\"correct_preds: {correct_preds[idx]}\")\n",
    "\n",
    "print(f\"successful attack: {att_success[idx]}, successful defense: {def_success[idx]}\")"
   ]
  },
  {
   "cell_type": "code",
   "execution_count": 36,
   "metadata": {},
   "outputs": [
    {
     "data": {
      "image/png": "[encoded data removed]",
      "text/plain": [
       "<Figure size 1000x800 with 1 Axes>"
      ]
     },
     "metadata": {},
     "output_type": "display_data"
    }
   ],
   "source": [
    "plt.figure(figsize=(5, 4), dpi=200)\n",
    "plt.stackplot(\n",
    "    epsilons, D, C, B, A,\n",
    "    labels=[\"D\", \"C\", \"B\", \"A\"],\n",
    "    colors=[\"crimson\", \"lightsalmon\", \"palegreen\", \"mediumseagreen\"]\n",
    ")\n",
    "\n",
    "# plt.title(\"Relative Frequency of Adversarial Defense Cases on 'Two Spirals' Dataset\")\n",
    "plt.xlabel(r\"Perturbation Magnitude ($\\epsilon$)\")\n",
    "plt.ylabel(\"Relative Frequency\")\n",
    "plt.legend(reverse=True, loc=\"lower right\")\n",
    "plt.gca().yaxis.set_major_formatter(plt.FuncFormatter(lambda y, _: '{:.0%}'.format(y)))\n",
    "plt.margins(0)\n",
    "\n",
    "plt.tight_layout()\n",
    "plt.savefig(f\"../figures/report/cifar10_fgsm_cases_freqs.pdf\")\n"
   ]
  },
  {
   "cell_type": "code",
   "execution_count": 22,
   "metadata": {},
   "outputs": [],
   "source": []
  }
 ],
 "metadata": {
  "kernelspec": {
   "display_name": "mflows",
   "language": "python",
   "name": "python3"
  },
  "language_info": {
   "codemirror_mode": {
    "name": "ipython",
    "version": 3
   },
   "file_extension": ".py",
   "mimetype": "text/x-python",
   "name": "python",
   "nbconvert_exporter": "python",
   "pygments_lexer": "ipython3",
   "version": "3.12.4"
  }
 },
 "nbformat": 4,
 "nbformat_minor": 2
}
